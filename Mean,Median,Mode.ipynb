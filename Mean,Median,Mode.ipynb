{
 "cells": [
  {
   "cell_type": "markdown",
   "id": "b335ec93",
   "metadata": {},
   "source": [
    "### Objective\n",
    "### In this challenge, we practice calculating the mean, median, and mode. Check out the Tutorial tab for learning materials and an instructional video!\n",
    "\n",
    "### Task\n",
    "### Given an array, X, of N integers, calculate and print the respective mean, median, and mode on separate lines. If your array contains more than one modal value, choose the numerically smallest one.\n",
    "\n",
    "### Note: Other than the modal value (which will always be an integer), your answers should be in decimal form, rounded to a scale of  decimal place.\n",
    "\n",
    "### Example\n",
    "### N=6\n",
    "### X=[1,2,3,4,5,5]\n",
    "### The mean is 20/6=3.3.\n",
    "### The median is3+4/2=3.5 .\n",
    "### The mode is  because 5 occurs most frequently."
   ]
  },
  {
   "cell_type": "code",
   "execution_count": 29,
   "id": "4020cbf4",
   "metadata": {},
   "outputs": [
    {
     "name": "stdout",
     "output_type": "stream",
     "text": [
      "10\n",
      "64630 11735 14216 99233 14470 4978 73429 38120 51135 67060\n",
      "43900.6\n",
      "44627.5\n",
      "4978\n"
     ]
    }
   ],
   "source": [
    "# first line contains length of array\n",
    "# second line contain list of number\n",
    "# sample case 1\n",
    "# input -10\n",
    "#        64630 11735 14216 99233 14470 4978 73429 38120 51135 67060\n",
    "# output-43900.6\n",
    "#        44627.5\n",
    "#        4978\n",
    "import numpy\n",
    "from collections import Counter\n",
    "N=int(input())\n",
    "list_number=list(map(int,input().split()))\n",
    "\n",
    "def mean(list1):\n",
    "    sum_=numpy.sum(list1)\n",
    "    mean_=sum_/len(list1)\n",
    "    return mean_\n",
    "print(mean(list_number))\n",
    "\n",
    "def median(list_number):\n",
    "    list_number.sort()\n",
    "    if len(list_number)%2==0:\n",
    "        N=int(len(list_number)/2)\n",
    "        M=N-1\n",
    "        median=(list_number[N]+list_number[M])/2\n",
    "        return median\n",
    "    elif len(list_number)%2 !=0:\n",
    "        N=int(len(list_number)/2)\n",
    "        median=list_number[N]\n",
    "        return median\n",
    "print(median(list_number))  \n",
    "    \n",
    "def mode(list1):\n",
    "    count=Counter(list1)\n",
    "    max_=max(count.values())\n",
    "    for i,k in count.items():\n",
    "        if k==max_:\n",
    "            return i\n",
    "print(mode(list_number))    \n"
   ]
  }
 ],
 "metadata": {
  "kernelspec": {
   "display_name": "Python 3 (ipykernel)",
   "language": "python",
   "name": "python3"
  },
  "language_info": {
   "codemirror_mode": {
    "name": "ipython",
    "version": 3
   },
   "file_extension": ".py",
   "mimetype": "text/x-python",
   "name": "python",
   "nbconvert_exporter": "python",
   "pygments_lexer": "ipython3",
   "version": "3.9.12"
  }
 },
 "nbformat": 4,
 "nbformat_minor": 5
}
