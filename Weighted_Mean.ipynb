{
 "cells": [
  {
   "cell_type": "markdown",
   "id": "59f28f77",
   "metadata": {},
   "source": [
    "# Task\n",
    "# Given an array,X , of N integers and an array,W , representing the respective weights of X's elements, calculate and print the weighted mean of X's elements. Your answer should be rounded to a scale of 1 decimal place (i.e.,12.3  format).\n",
    "\n",
    "# Example\n",
    "# X=[1,2,3]\n",
    "\n",
    "# W=[5,6,7]\n",
    "\n",
    "# The array of values X[i]*W[i]=[5,12,21]. Their sum is 38. The sum of W=18. The weighted mean is 38/18=2.111111... . Print 2.1 and return."
   ]
  },
  {
   "cell_type": "code",
   "execution_count": 3,
   "id": "becf8ff5",
   "metadata": {},
   "outputs": [
    {
     "name": "stdout",
     "output_type": "stream",
     "text": [
      "5\n",
      "10 40 30 50 20\n",
      "1 2 3 4 5\n",
      "32.0\n"
     ]
    }
   ],
   "source": [
    "#Use case 1) 5               X[] and W[] size n = 5\n",
    "#           10 40 30 50 20  X = [10, 40, 30, 50, 20]  \n",
    "#           1 2 3 4 5       W = [1, 2, 3, 4, 5]\n",
    "# output = 32.0\n",
    "def weightedMean(X,W):\n",
    "    multi_X_W=[i*j for i,j in zip(X,W)]\n",
    "    total_sum=sum(multi_X_W)\n",
    "    sum_of_wts=sum(W)\n",
    "    ans=round(total_sum/sum_of_wts,1)\n",
    "    print(ans)\n",
    "    return ans\n",
    "\n",
    "if __name__ == '__main__':\n",
    "    n = int(input().strip())\n",
    "\n",
    "    vals = list(map(int, input().rstrip().split()))\n",
    "\n",
    "    weights = list(map(int, input().rstrip().split()))\n",
    "\n",
    "    weightedMean(vals, weights)"
   ]
  },
  {
   "cell_type": "code",
   "execution_count": null,
   "id": "37a71f42",
   "metadata": {},
   "outputs": [],
   "source": []
  }
 ],
 "metadata": {
  "kernelspec": {
   "display_name": "Python 3 (ipykernel)",
   "language": "python",
   "name": "python3"
  },
  "language_info": {
   "codemirror_mode": {
    "name": "ipython",
    "version": 3
   },
   "file_extension": ".py",
   "mimetype": "text/x-python",
   "name": "python",
   "nbconvert_exporter": "python",
   "pygments_lexer": "ipython3",
   "version": "3.9.12"
  }
 },
 "nbformat": 4,
 "nbformat_minor": 5
}
